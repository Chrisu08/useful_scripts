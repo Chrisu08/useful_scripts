{
 "cells": [
  {
   "cell_type": "markdown",
   "id": "4f1d2969-a709-418b-8052-1fb9e7611171",
   "metadata": {},
   "source": [
    "R codes: \n",
    "\n",
    ".Last.value --> shows last value\n",
    "help ()\n",
    "%/% --> dividing whole numbers\n",
    "%% --> remain of whole number division\n",
    "round(x,n) --> round numbers (x) to n digits\n",
    "floor --> abrunde\n",
    "ceiling --> aufrunden\n",
    "NaN --> not a number\n",
    "NA --> not available \n",
    "all.equal --> important for comparisons of numbers\n",
    "seq(1,3,0.5) --> creates sequence\n",
    "rep(c(1,2),4) --> repetition of numbers (1 2 1 2 1 2 1 2)\n",
    "sample(c(1,2,3,4),2) --> picks two random numbers\n",
    "runif --> random numbers equally distributed\n",
    "rnorm --> normalised numbers\n",
    "na.omit --> removes NAs\n",
    "which.min() --> shows the position from min (same for max)\n",
    "match --> finds at which position a specific number is\n",
    "rbind --> row bind\n",
    "cbind --> column bind\n",
    "matrix(c(1,2,3,4,5,6), nrow =2, ncol=3, byrow=TRUE\n",
    "%*% --> caluclates matrix\n",
    "solve(M,b) --> solves equation from matrix (M) with solutions (b)\n",
    "uniroot --> shows 0-position from a function"
   ]
  }
 ],
 "metadata": {
  "kernelspec": {
   "display_name": "Python 3 (ipykernel)",
   "language": "python",
   "name": "python3"
  },
  "language_info": {
   "codemirror_mode": {
    "name": "ipython",
    "version": 3
   },
   "file_extension": ".py",
   "mimetype": "text/x-python",
   "name": "python",
   "nbconvert_exporter": "python",
   "pygments_lexer": "ipython3",
   "version": "3.8.12"
  }
 },
 "nbformat": 4,
 "nbformat_minor": 5
}
